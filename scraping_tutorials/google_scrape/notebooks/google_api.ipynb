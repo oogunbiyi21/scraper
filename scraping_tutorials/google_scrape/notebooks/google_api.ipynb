{
 "cells": [
  {
   "cell_type": "code",
   "execution_count": 3,
   "id": "daf7e53d",
   "metadata": {},
   "outputs": [
    {
     "name": "stdout",
     "output_type": "stream",
     "text": [
      "https://www.wework.com/en-GB/l/coworking-space/london\n",
      "https://hubblehq.com/blog/the-coolest-co-working-spaces-in-london\n",
      "https://www.theofficegroup.com/coworking-space/uk/london\n",
      "https://thespaces.com/the-best-london-coworking-spaces/\n",
      "https://www.surfoffice.com/coworking/london\n",
      "https://uncommon.co.uk/\n",
      "https://www.coworkinglondon.com/\n",
      "https://www.cntraveller.com/gallery/coworking-spaces-london\n",
      "https://www.culturewhisper.com/r/lifestyle/coworking_spaces_london/14224\n",
      "https://www.remoteyear.com/blog/best-coworking-spaces-in-london\n",
      "https://www.travelmag.com/articles/coworking-spaces-london/\n",
      "https://www.andco.life/\n",
      "https://www.elle.com/uk/life-and-culture/g38973419/coworking-spaces/\n",
      "https://startupsoflondon.com/the-ultimate-guide-for-coworking-spaces-in-london/\n",
      "https://work.life/\n",
      "https://co-work.co/\n",
      "https://www.countryandtownhouse.com/culture/co-working-spaces-london/\n",
      "https://www.workargyll.com/london-coworking\n",
      "https://www.harpersbazaar.com/uk/people-parties/bazaar-at-work/g30075500/best-co-working-spaces-london/\n",
      "https://www.londonxlondon.com/coworking-spaces-london/\n",
      "https://labs.com/\n",
      "https://othership.com/best-coworking-spaces-london/\n",
      "https://www.coworker.com/united-kingdom/london\n",
      "https://secondhome.io/\n",
      "https://workingfrom.thehoxton.com/london-southwark/\n",
      "https://devx.work/blog/best-coworking-spaces-in-london/\n",
      "https://www.instantoffices.com/blog/business-growth/10-co-working-spaces-in-london/\n",
      "https://uk.indeed.com/Coworking-jobs-in-London\n",
      "https://drop-desk.com/best-coworking-spaces/london\n",
      "https://www.centralworking.co/\n"
     ]
    }
   ],
   "source": [
    "try:\n",
    "    from googlesearch import search\n",
    "except ImportError:\n",
    "    print(\"No module named 'google' found\")\n",
    " \n",
    "# to search\n",
    "query = \"co working in London\"\n",
    " \n",
    "for j in search(query, tld=\"com\", num=30, stop=30, pause=2):\n",
    "    print(j)"
   ]
  },
  {
   "cell_type": "code",
   "execution_count": null,
   "id": "91e3c338",
   "metadata": {},
   "outputs": [],
   "source": []
  }
 ],
 "metadata": {
  "kernelspec": {
   "display_name": "Python (scraper)",
   "language": "python",
   "name": "scraper"
  },
  "language_info": {
   "codemirror_mode": {
    "name": "ipython",
    "version": 3
   },
   "file_extension": ".py",
   "mimetype": "text/x-python",
   "name": "python",
   "nbconvert_exporter": "python",
   "pygments_lexer": "ipython3",
   "version": "3.8.8"
  }
 },
 "nbformat": 4,
 "nbformat_minor": 5
}
